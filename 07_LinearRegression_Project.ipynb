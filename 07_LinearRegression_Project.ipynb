{
 "cells": [
  {
   "cell_type": "code",
   "execution_count": 1,
   "metadata": {
    "collapsed": true
   },
   "outputs": [],
   "source": [
    "import findspark\n",
    "findspark.init('/home/raj/spark-2.1.0-bin-hadoop2.7')\n",
    "import pyspark\n",
    "from pyspark.sql import SparkSession\n",
    "spark=SparkSession.builder.appName('linreg').getOrCreate()"
   ]
  },
  {
   "cell_type": "code",
   "execution_count": 6,
   "metadata": {
    "collapsed": true
   },
   "outputs": [],
   "source": [
    "cruiseData=spark.read.csv('/home/raj/Documents/Udemy-Spark/Python-and-Spark-for-Big-Data-master/Spark_for_Machine_Learning/Linear_Regression/cruise_ship_info.csv',\n",
    "                       header=True,inferSchema=True)"
   ]
  },
  {
   "cell_type": "code",
   "execution_count": 7,
   "metadata": {},
   "outputs": [
    {
     "name": "stdout",
     "output_type": "stream",
     "text": [
      "+-----------+-----------+---+------------------+----------+------+------+-----------------+----+\n",
      "|  Ship_name|Cruise_line|Age|           Tonnage|passengers|length|cabins|passenger_density|crew|\n",
      "+-----------+-----------+---+------------------+----------+------+------+-----------------+----+\n",
      "|    Journey|    Azamara|  6|30.276999999999997|      6.94|  5.94|  3.55|            42.64|3.55|\n",
      "|      Quest|    Azamara|  6|30.276999999999997|      6.94|  5.94|  3.55|            42.64|3.55|\n",
      "|Celebration|   Carnival| 26|            47.262|     14.86|  7.22|  7.43|             31.8| 6.7|\n",
      "|   Conquest|   Carnival| 11|             110.0|     29.74|  9.53| 14.88|            36.99|19.1|\n",
      "|    Destiny|   Carnival| 17|           101.353|     26.42|  8.92| 13.21|            38.36|10.0|\n",
      "+-----------+-----------+---+------------------+----------+------+------+-----------------+----+\n",
      "only showing top 5 rows\n",
      "\n"
     ]
    }
   ],
   "source": [
    "cruiseData.show(5)"
   ]
  },
  {
   "cell_type": "code",
   "execution_count": 8,
   "metadata": {},
   "outputs": [
    {
     "name": "stdout",
     "output_type": "stream",
     "text": [
      "root\n",
      " |-- Ship_name: string (nullable = true)\n",
      " |-- Cruise_line: string (nullable = true)\n",
      " |-- Age: integer (nullable = true)\n",
      " |-- Tonnage: double (nullable = true)\n",
      " |-- passengers: double (nullable = true)\n",
      " |-- length: double (nullable = true)\n",
      " |-- cabins: double (nullable = true)\n",
      " |-- passenger_density: double (nullable = true)\n",
      " |-- crew: double (nullable = true)\n",
      "\n"
     ]
    }
   ],
   "source": [
    "cruiseData.printSchema()"
   ]
  },
  {
   "cell_type": "code",
   "execution_count": 9,
   "metadata": {
    "collapsed": true
   },
   "outputs": [],
   "source": [
    "from pyspark.ml.linalg import Vectors\n",
    "\n",
    "from pyspark.ml.feature import VectorAssembler"
   ]
  },
  {
   "cell_type": "code",
   "execution_count": 10,
   "metadata": {},
   "outputs": [
    {
     "data": {
      "text/plain": [
       "['Ship_name',\n",
       " 'Cruise_line',\n",
       " 'Age',\n",
       " 'Tonnage',\n",
       " 'passengers',\n",
       " 'length',\n",
       " 'cabins',\n",
       " 'passenger_density',\n",
       " 'crew']"
      ]
     },
     "execution_count": 10,
     "metadata": {},
     "output_type": "execute_result"
    }
   ],
   "source": [
    "cruiseData.columns"
   ]
  },
  {
   "cell_type": "code",
   "execution_count": 17,
   "metadata": {
    "collapsed": true
   },
   "outputs": [],
   "source": [
    "assembler =VectorAssembler(inputCols=[ 'Age',\n",
    " 'Tonnage',\n",
    " 'passengers',\n",
    " 'length',\n",
    " 'cabins',\n",
    " 'passenger_density'],outputCol='cruiseFeatures' )"
   ]
  },
  {
   "cell_type": "code",
   "execution_count": 18,
   "metadata": {},
   "outputs": [],
   "source": [
    "cruiseFeatures=assembler.transform(cruiseData)"
   ]
  },
  {
   "cell_type": "code",
   "execution_count": 20,
   "metadata": {},
   "outputs": [
    {
     "name": "stdout",
     "output_type": "stream",
     "text": [
      "+-----------+-----------+---+------------------+----------+------+------+-----------------+----+--------------------+\n",
      "|  Ship_name|Cruise_line|Age|           Tonnage|passengers|length|cabins|passenger_density|crew|      cruiseFeatures|\n",
      "+-----------+-----------+---+------------------+----------+------+------+-----------------+----+--------------------+\n",
      "|    Journey|    Azamara|  6|30.276999999999997|      6.94|  5.94|  3.55|            42.64|3.55|[6.0,30.276999999...|\n",
      "|      Quest|    Azamara|  6|30.276999999999997|      6.94|  5.94|  3.55|            42.64|3.55|[6.0,30.276999999...|\n",
      "|Celebration|   Carnival| 26|            47.262|     14.86|  7.22|  7.43|             31.8| 6.7|[26.0,47.262,14.8...|\n",
      "|   Conquest|   Carnival| 11|             110.0|     29.74|  9.53| 14.88|            36.99|19.1|[11.0,110.0,29.74...|\n",
      "|    Destiny|   Carnival| 17|           101.353|     26.42|  8.92| 13.21|            38.36|10.0|[17.0,101.353,26....|\n",
      "|    Ecstasy|   Carnival| 22|            70.367|     20.52|  8.55|  10.2|            34.29| 9.2|[22.0,70.367,20.5...|\n",
      "|    Elation|   Carnival| 15|            70.367|     20.52|  8.55|  10.2|            34.29| 9.2|[15.0,70.367,20.5...|\n",
      "|    Fantasy|   Carnival| 23|            70.367|     20.56|  8.55| 10.22|            34.23| 9.2|[23.0,70.367,20.5...|\n",
      "|Fascination|   Carnival| 19|            70.367|     20.52|  8.55|  10.2|            34.29| 9.2|[19.0,70.367,20.5...|\n",
      "|    Freedom|   Carnival|  6|110.23899999999999|      37.0|  9.51| 14.87|            29.79|11.5|[6.0,110.23899999...|\n",
      "|      Glory|   Carnival| 10|             110.0|     29.74|  9.51| 14.87|            36.99|11.6|[10.0,110.0,29.74...|\n",
      "|    Holiday|   Carnival| 28|            46.052|     14.52|  7.27|  7.26|            31.72| 6.6|[28.0,46.052,14.5...|\n",
      "|Imagination|   Carnival| 18|            70.367|     20.52|  8.55|  10.2|            34.29| 9.2|[18.0,70.367,20.5...|\n",
      "|Inspiration|   Carnival| 17|            70.367|     20.52|  8.55|  10.2|            34.29| 9.2|[17.0,70.367,20.5...|\n",
      "|     Legend|   Carnival| 11|              86.0|     21.24|  9.63| 10.62|            40.49| 9.3|[11.0,86.0,21.24,...|\n",
      "|   Liberty*|   Carnival|  8|             110.0|     29.74|  9.51| 14.87|            36.99|11.6|[8.0,110.0,29.74,...|\n",
      "|    Miracle|   Carnival|  9|              88.5|     21.24|  9.63| 10.62|            41.67|10.3|[9.0,88.5,21.24,9...|\n",
      "|   Paradise|   Carnival| 15|            70.367|     20.52|  8.55|  10.2|            34.29| 9.2|[15.0,70.367,20.5...|\n",
      "|      Pride|   Carnival| 12|              88.5|     21.24|  9.63| 11.62|            41.67| 9.3|[12.0,88.5,21.24,...|\n",
      "|  Sensation|   Carnival| 20|            70.367|     20.52|  8.55|  10.2|            34.29| 9.2|[20.0,70.367,20.5...|\n",
      "+-----------+-----------+---+------------------+----------+------+------+-----------------+----+--------------------+\n",
      "only showing top 20 rows\n",
      "\n"
     ]
    }
   ],
   "source": [
    "cruiseFeatures.show()"
   ]
  },
  {
   "cell_type": "code",
   "execution_count": 21,
   "metadata": {
    "collapsed": true
   },
   "outputs": [],
   "source": [
    "cleanedData=cruiseFeatures.select('cruiseFeatures','crew')"
   ]
  },
  {
   "cell_type": "code",
   "execution_count": 22,
   "metadata": {},
   "outputs": [
    {
     "name": "stdout",
     "output_type": "stream",
     "text": [
      "+--------------------+----+\n",
      "|      cruiseFeatures|crew|\n",
      "+--------------------+----+\n",
      "|[6.0,30.276999999...|3.55|\n",
      "|[6.0,30.276999999...|3.55|\n",
      "|[26.0,47.262,14.8...| 6.7|\n",
      "|[11.0,110.0,29.74...|19.1|\n",
      "|[17.0,101.353,26....|10.0|\n",
      "|[22.0,70.367,20.5...| 9.2|\n",
      "|[15.0,70.367,20.5...| 9.2|\n",
      "|[23.0,70.367,20.5...| 9.2|\n",
      "|[19.0,70.367,20.5...| 9.2|\n",
      "|[6.0,110.23899999...|11.5|\n",
      "|[10.0,110.0,29.74...|11.6|\n",
      "|[28.0,46.052,14.5...| 6.6|\n",
      "|[18.0,70.367,20.5...| 9.2|\n",
      "|[17.0,70.367,20.5...| 9.2|\n",
      "|[11.0,86.0,21.24,...| 9.3|\n",
      "|[8.0,110.0,29.74,...|11.6|\n",
      "|[9.0,88.5,21.24,9...|10.3|\n",
      "|[15.0,70.367,20.5...| 9.2|\n",
      "|[12.0,88.5,21.24,...| 9.3|\n",
      "|[20.0,70.367,20.5...| 9.2|\n",
      "+--------------------+----+\n",
      "only showing top 20 rows\n",
      "\n"
     ]
    }
   ],
   "source": [
    "cleanedData.show()"
   ]
  },
  {
   "cell_type": "code",
   "execution_count": 23,
   "metadata": {
    "collapsed": true
   },
   "outputs": [],
   "source": [
    "trainData,testData=cleanedData.randomSplit([0.75,0.25])"
   ]
  },
  {
   "cell_type": "code",
   "execution_count": 25,
   "metadata": {},
   "outputs": [
    {
     "name": "stdout",
     "output_type": "stream",
     "text": [
      "+-------+------------------+\n",
      "|summary|              crew|\n",
      "+-------+------------------+\n",
      "|  count|               119|\n",
      "|   mean|  7.65638655462186|\n",
      "| stddev|3.2583472287140514|\n",
      "|    min|              0.59|\n",
      "|    max|              13.6|\n",
      "+-------+------------------+\n",
      "\n"
     ]
    }
   ],
   "source": [
    "trainData.describe().show()"
   ]
  },
  {
   "cell_type": "code",
   "execution_count": 27,
   "metadata": {},
   "outputs": [
    {
     "name": "stdout",
     "output_type": "stream",
     "text": [
      "+-------+-----------------+\n",
      "|summary|             crew|\n",
      "+-------+-----------------+\n",
      "|  count|               39|\n",
      "|   mean|8.214615384615385|\n",
      "| stddev|4.183755456118247|\n",
      "|    min|             0.59|\n",
      "|    max|             21.0|\n",
      "+-------+-----------------+\n",
      "\n"
     ]
    }
   ],
   "source": [
    "testData.describe().show()"
   ]
  },
  {
   "cell_type": "code",
   "execution_count": 29,
   "metadata": {},
   "outputs": [],
   "source": [
    "from pyspark.ml.regression import LinearRegression\n",
    "linReg= LinearRegression(labelCol='crew',featuresCol='cruiseFeatures')"
   ]
  },
  {
   "cell_type": "code",
   "execution_count": 30,
   "metadata": {
    "collapsed": true
   },
   "outputs": [],
   "source": [
    "linRegModel=linReg.fit(trainData)"
   ]
  },
  {
   "cell_type": "code",
   "execution_count": 31,
   "metadata": {
    "collapsed": true
   },
   "outputs": [],
   "source": [
    "testResults=linRegModel.evaluate(testData)"
   ]
  },
  {
   "cell_type": "code",
   "execution_count": 35,
   "metadata": {},
   "outputs": [
    {
     "data": {
      "text/plain": [
       "0.8899825284294947"
      ]
     },
     "execution_count": 35,
     "metadata": {},
     "output_type": "execute_result"
    }
   ],
   "source": [
    "testResults.r2"
   ]
  },
  {
   "cell_type": "code",
   "execution_count": 37,
   "metadata": {},
   "outputs": [
    {
     "name": "stdout",
     "output_type": "stream",
     "text": [
      "+--------------------+-----+------------------+\n",
      "|      cruiseFeatures| crew|        prediction|\n",
      "+--------------------+-----+------------------+\n",
      "|[4.0,220.0,54.0,1...| 21.0| 19.74123996217489|\n",
      "|[5.0,86.0,21.04,9...|  8.0| 9.415042541351369|\n",
      "|[5.0,122.0,28.5,1...|  6.7| 7.297502025076213|\n",
      "|[6.0,30.276999999...| 3.55| 4.143441633133522|\n",
      "|[6.0,158.0,43.7,1...| 13.6|13.813356536937706|\n",
      "|[7.0,116.0,31.0,9...| 12.0|12.238561884666273|\n",
      "|[9.0,85.0,19.68,9...| 8.69| 9.191970782194637|\n",
      "|[10.0,58.825,15.6...|  7.0| 7.303600699421699|\n",
      "|[10.0,105.0,27.2,...|10.68|10.814632403722364|\n",
      "|[10.0,138.0,31.14...|11.85|12.757389927394417|\n",
      "|[11.0,91.0,20.32,...| 9.99| 9.228461668339614|\n",
      "|[11.0,91.62700000...|  9.0| 9.373192374036302|\n",
      "|[11.0,108.977,26....| 12.0|10.908349848312763|\n",
      "|[11.0,110.0,29.74...| 19.1| 11.75783515956023|\n",
      "|[12.0,91.0,20.32,...| 9.99| 9.202899534003492|\n",
      "|[13.0,30.27699999...|  4.0|3.8810553075566414|\n",
      "|[13.0,91.0,20.32,...| 9.99| 9.177337399667369|\n",
      "|[13.0,101.509,27....| 11.5|10.822335788585479|\n",
      "|[14.0,30.27699999...| 3.73|3.8603344997130664|\n",
      "|[15.0,30.27699999...|  4.0|3.8299310388843955|\n",
      "+--------------------+-----+------------------+\n",
      "only showing top 20 rows\n",
      "\n"
     ]
    }
   ],
   "source": [
    "testResults.predictions.show()"
   ]
  },
  {
   "cell_type": "code",
   "execution_count": 38,
   "metadata": {},
   "outputs": [
    {
     "data": {
      "text/plain": [
       "1.8763473266440143"
      ]
     },
     "execution_count": 38,
     "metadata": {},
     "output_type": "execute_result"
    }
   ],
   "source": [
    "testResults.meanSquaredError"
   ]
  },
  {
   "cell_type": "code",
   "execution_count": 39,
   "metadata": {},
   "outputs": [
    {
     "data": {
      "text/plain": [
       "1.3697982795448438"
      ]
     },
     "execution_count": 39,
     "metadata": {},
     "output_type": "execute_result"
    }
   ],
   "source": [
    "testResults.rootMeanSquaredError"
   ]
  },
  {
   "cell_type": "code",
   "execution_count": 40,
   "metadata": {
    "collapsed": true
   },
   "outputs": [],
   "source": [
    "from pyspark.ml.feature import StringIndexer"
   ]
  },
  {
   "cell_type": "code",
   "execution_count": 42,
   "metadata": {
    "collapsed": true
   },
   "outputs": [],
   "source": [
    "indexer=StringIndexer(inputCol='Cruise_line',outputCol='Cruise_line_Category')"
   ]
  },
  {
   "cell_type": "code",
   "execution_count": 43,
   "metadata": {
    "collapsed": true
   },
   "outputs": [],
   "source": [
    "indexedCruiseData=indexer.fit(cruiseData).transform(cruiseData)"
   ]
  },
  {
   "cell_type": "code",
   "execution_count": 46,
   "metadata": {},
   "outputs": [
    {
     "name": "stdout",
     "output_type": "stream",
     "text": [
      "+-------------+-----------+---+------------------+----------+------+------+-----------------+-----+--------------------+\n",
      "|    Ship_name|Cruise_line|Age|           Tonnage|passengers|length|cabins|passenger_density| crew|Cruise_line_Category|\n",
      "+-------------+-----------+---+------------------+----------+------+------+-----------------+-----+--------------------+\n",
      "|      Journey|    Azamara|  6|30.276999999999997|      6.94|  5.94|  3.55|            42.64| 3.55|                16.0|\n",
      "|        Quest|    Azamara|  6|30.276999999999997|      6.94|  5.94|  3.55|            42.64| 3.55|                16.0|\n",
      "|  Celebration|   Carnival| 26|            47.262|     14.86|  7.22|  7.43|             31.8|  6.7|                 1.0|\n",
      "|     Conquest|   Carnival| 11|             110.0|     29.74|  9.53| 14.88|            36.99| 19.1|                 1.0|\n",
      "|      Destiny|   Carnival| 17|           101.353|     26.42|  8.92| 13.21|            38.36| 10.0|                 1.0|\n",
      "|      Ecstasy|   Carnival| 22|            70.367|     20.52|  8.55|  10.2|            34.29|  9.2|                 1.0|\n",
      "|      Elation|   Carnival| 15|            70.367|     20.52|  8.55|  10.2|            34.29|  9.2|                 1.0|\n",
      "|      Fantasy|   Carnival| 23|            70.367|     20.56|  8.55| 10.22|            34.23|  9.2|                 1.0|\n",
      "|  Fascination|   Carnival| 19|            70.367|     20.52|  8.55|  10.2|            34.29|  9.2|                 1.0|\n",
      "|      Freedom|   Carnival|  6|110.23899999999999|      37.0|  9.51| 14.87|            29.79| 11.5|                 1.0|\n",
      "|        Glory|   Carnival| 10|             110.0|     29.74|  9.51| 14.87|            36.99| 11.6|                 1.0|\n",
      "|      Holiday|   Carnival| 28|            46.052|     14.52|  7.27|  7.26|            31.72|  6.6|                 1.0|\n",
      "|  Imagination|   Carnival| 18|            70.367|     20.52|  8.55|  10.2|            34.29|  9.2|                 1.0|\n",
      "|  Inspiration|   Carnival| 17|            70.367|     20.52|  8.55|  10.2|            34.29|  9.2|                 1.0|\n",
      "|       Legend|   Carnival| 11|              86.0|     21.24|  9.63| 10.62|            40.49|  9.3|                 1.0|\n",
      "|     Liberty*|   Carnival|  8|             110.0|     29.74|  9.51| 14.87|            36.99| 11.6|                 1.0|\n",
      "|      Miracle|   Carnival|  9|              88.5|     21.24|  9.63| 10.62|            41.67| 10.3|                 1.0|\n",
      "|     Paradise|   Carnival| 15|            70.367|     20.52|  8.55|  10.2|            34.29|  9.2|                 1.0|\n",
      "|        Pride|   Carnival| 12|              88.5|     21.24|  9.63| 11.62|            41.67|  9.3|                 1.0|\n",
      "|    Sensation|   Carnival| 20|            70.367|     20.52|  8.55|  10.2|            34.29|  9.2|                 1.0|\n",
      "|       Spirit|   Carnival| 12|              88.5|     21.24|  9.63| 10.56|            41.67|10.29|                 1.0|\n",
      "|      Triumph|   Carnival| 14|           101.509|     27.58|  8.93| 13.21|            36.81| 10.0|                 1.0|\n",
      "|        Valor|   Carnival|  9|             110.0|     29.74|  9.52| 14.87|            36.99| 11.6|                 1.0|\n",
      "|      Victory|   Carnival| 13|           101.509|     27.58|  8.93| 13.79|            36.81| 11.5|                 1.0|\n",
      "|      Century|  Celebrity| 18| 70.60600000000001|      17.7|  8.15|  8.75|            39.89| 8.58|                 6.0|\n",
      "|Constellation|  Celebrity| 11|              91.0|     20.32|  9.65|  9.75|            44.78| 9.99|                 6.0|\n",
      "|       Galaxy|  Celebrity| 17| 77.71300000000001|      18.9|  8.66|  9.35|            41.12| 9.09|                 6.0|\n",
      "|     Infinity|  Celebrity| 12|              91.0|     20.32|  9.65|  9.75|            44.78| 9.99|                 6.0|\n",
      "|      Mercury|  Celebrity| 16| 77.71300000000001|     18.82|  8.66|  9.35|            41.29| 9.09|                 6.0|\n",
      "|    Millenium|  Celebrity| 13|              91.0|     20.32|  9.65|  9.75|            44.78| 9.99|                 6.0|\n",
      "+-------------+-----------+---+------------------+----------+------+------+-----------------+-----+--------------------+\n",
      "only showing top 30 rows\n",
      "\n"
     ]
    }
   ],
   "source": [
    "indexedCruiseData.show(30)"
   ]
  },
  {
   "cell_type": "code",
   "execution_count": 47,
   "metadata": {
    "collapsed": true
   },
   "outputs": [],
   "source": [
    "from pyspark.ml.feature import OneHotEncoder"
   ]
  },
  {
   "cell_type": "code",
   "execution_count": 48,
   "metadata": {
    "collapsed": true
   },
   "outputs": [],
   "source": [
    "encoder =OneHotEncoder(inputCol='Cruise_line_Category',outputCol='Cruise_line_Features')"
   ]
  },
  {
   "cell_type": "code",
   "execution_count": 49,
   "metadata": {
    "collapsed": true
   },
   "outputs": [],
   "source": [
    "encodedCruiseData=encoder.transform(indexedCruiseData)"
   ]
  },
  {
   "cell_type": "code",
   "execution_count": 50,
   "metadata": {},
   "outputs": [
    {
     "name": "stdout",
     "output_type": "stream",
     "text": [
      "+-----------+-----------+---+------------------+----------+------+------+-----------------+----+--------------------+--------------------+\n",
      "|  Ship_name|Cruise_line|Age|           Tonnage|passengers|length|cabins|passenger_density|crew|Cruise_line_Category|Cruise_line_Features|\n",
      "+-----------+-----------+---+------------------+----------+------+------+-----------------+----+--------------------+--------------------+\n",
      "|    Journey|    Azamara|  6|30.276999999999997|      6.94|  5.94|  3.55|            42.64|3.55|                16.0|     (19,[16],[1.0])|\n",
      "|      Quest|    Azamara|  6|30.276999999999997|      6.94|  5.94|  3.55|            42.64|3.55|                16.0|     (19,[16],[1.0])|\n",
      "|Celebration|   Carnival| 26|            47.262|     14.86|  7.22|  7.43|             31.8| 6.7|                 1.0|      (19,[1],[1.0])|\n",
      "|   Conquest|   Carnival| 11|             110.0|     29.74|  9.53| 14.88|            36.99|19.1|                 1.0|      (19,[1],[1.0])|\n",
      "|    Destiny|   Carnival| 17|           101.353|     26.42|  8.92| 13.21|            38.36|10.0|                 1.0|      (19,[1],[1.0])|\n",
      "+-----------+-----------+---+------------------+----------+------+------+-----------------+----+--------------------+--------------------+\n",
      "only showing top 5 rows\n",
      "\n"
     ]
    }
   ],
   "source": [
    "encodedCruiseData.show(5)"
   ]
  },
  {
   "cell_type": "code",
   "execution_count": 51,
   "metadata": {},
   "outputs": [
    {
     "data": {
      "text/plain": [
       "['Ship_name',\n",
       " 'Cruise_line',\n",
       " 'Age',\n",
       " 'Tonnage',\n",
       " 'passengers',\n",
       " 'length',\n",
       " 'cabins',\n",
       " 'passenger_density',\n",
       " 'crew',\n",
       " 'Cruise_line_Category',\n",
       " 'Cruise_line_Features']"
      ]
     },
     "execution_count": 51,
     "metadata": {},
     "output_type": "execute_result"
    }
   ],
   "source": [
    "encodedCruiseData.columns"
   ]
  },
  {
   "cell_type": "code",
   "execution_count": 54,
   "metadata": {},
   "outputs": [],
   "source": [
    "encodedCruiseVector=VectorAssembler(inputCols=['Age',\n",
    " 'Tonnage',\n",
    " 'passengers',\n",
    " 'length',\n",
    " 'cabins',\n",
    " 'passenger_density',\n",
    " 'crew',\n",
    " 'Cruise_line_Features'],outputCol='encodedFeatures')"
   ]
  },
  {
   "cell_type": "code",
   "execution_count": 55,
   "metadata": {
    "collapsed": true
   },
   "outputs": [],
   "source": [
    "encodedCruiseDf=encodedCruiseVector.transform(encodedCruiseData)"
   ]
  },
  {
   "cell_type": "code",
   "execution_count": 56,
   "metadata": {},
   "outputs": [
    {
     "name": "stdout",
     "output_type": "stream",
     "text": [
      "+-----------+-----------+---+------------------+----------+------+------+-----------------+----+--------------------+--------------------+--------------------+\n",
      "|  Ship_name|Cruise_line|Age|           Tonnage|passengers|length|cabins|passenger_density|crew|Cruise_line_Category|Cruise_line_Features|     encodedFeatures|\n",
      "+-----------+-----------+---+------------------+----------+------+------+-----------------+----+--------------------+--------------------+--------------------+\n",
      "|    Journey|    Azamara|  6|30.276999999999997|      6.94|  5.94|  3.55|            42.64|3.55|                16.0|     (19,[16],[1.0])|(26,[0,1,2,3,4,5,...|\n",
      "|      Quest|    Azamara|  6|30.276999999999997|      6.94|  5.94|  3.55|            42.64|3.55|                16.0|     (19,[16],[1.0])|(26,[0,1,2,3,4,5,...|\n",
      "|Celebration|   Carnival| 26|            47.262|     14.86|  7.22|  7.43|             31.8| 6.7|                 1.0|      (19,[1],[1.0])|(26,[0,1,2,3,4,5,...|\n",
      "|   Conquest|   Carnival| 11|             110.0|     29.74|  9.53| 14.88|            36.99|19.1|                 1.0|      (19,[1],[1.0])|(26,[0,1,2,3,4,5,...|\n",
      "|    Destiny|   Carnival| 17|           101.353|     26.42|  8.92| 13.21|            38.36|10.0|                 1.0|      (19,[1],[1.0])|(26,[0,1,2,3,4,5,...|\n",
      "+-----------+-----------+---+------------------+----------+------+------+-----------------+----+--------------------+--------------------+--------------------+\n",
      "only showing top 5 rows\n",
      "\n"
     ]
    }
   ],
   "source": [
    "encodedCruiseDf.show(5)"
   ]
  },
  {
   "cell_type": "code",
   "execution_count": 57,
   "metadata": {
    "collapsed": true
   },
   "outputs": [],
   "source": [
    "encodedCruiseDfCleamed=encodedCruiseDf.select('encodedFeatures','crew')"
   ]
  },
  {
   "cell_type": "code",
   "execution_count": 58,
   "metadata": {},
   "outputs": [
    {
     "name": "stdout",
     "output_type": "stream",
     "text": [
      "+--------------------+----+\n",
      "|     encodedFeatures|crew|\n",
      "+--------------------+----+\n",
      "|(26,[0,1,2,3,4,5,...|3.55|\n",
      "|(26,[0,1,2,3,4,5,...|3.55|\n",
      "|(26,[0,1,2,3,4,5,...| 6.7|\n",
      "|(26,[0,1,2,3,4,5,...|19.1|\n",
      "|(26,[0,1,2,3,4,5,...|10.0|\n",
      "+--------------------+----+\n",
      "only showing top 5 rows\n",
      "\n"
     ]
    }
   ],
   "source": [
    "encodedCruiseDfCleamed.show(5)"
   ]
  },
  {
   "cell_type": "code",
   "execution_count": 59,
   "metadata": {
    "collapsed": true
   },
   "outputs": [],
   "source": [
    "encodedTrainData,encodedTestData=encodedCruiseDfCleamed.randomSplit([0.75,0.25])"
   ]
  },
  {
   "cell_type": "code",
   "execution_count": 60,
   "metadata": {},
   "outputs": [
    {
     "name": "stdout",
     "output_type": "stream",
     "text": [
      "+-------+------------------+\n",
      "|summary|              crew|\n",
      "+-------+------------------+\n",
      "|  count|               121|\n",
      "|   mean| 7.783471074380171|\n",
      "| stddev|3.3581611314189517|\n",
      "|    min|              0.59|\n",
      "|    max|              21.0|\n",
      "+-------+------------------+\n",
      "\n"
     ]
    }
   ],
   "source": [
    "encodedTrainData.describe().show()"
   ]
  },
  {
   "cell_type": "code",
   "execution_count": 61,
   "metadata": {
    "collapsed": true
   },
   "outputs": [],
   "source": [
    "linRegEncoded= LinearRegression(labelCol='crew',featuresCol='encodedFeatures')"
   ]
  },
  {
   "cell_type": "code",
   "execution_count": 62,
   "metadata": {
    "collapsed": true
   },
   "outputs": [],
   "source": [
    "linRegEncodedModel=linRegEncoded.fit(encodedTrainData)"
   ]
  },
  {
   "cell_type": "code",
   "execution_count": 63,
   "metadata": {
    "collapsed": true
   },
   "outputs": [],
   "source": [
    "testResultsEncoded=linRegEncodedModel.evaluate(encodedTestData)"
   ]
  },
  {
   "cell_type": "code",
   "execution_count": 65,
   "metadata": {},
   "outputs": [
    {
     "data": {
      "text/plain": [
       "1.0"
      ]
     },
     "execution_count": 65,
     "metadata": {},
     "output_type": "execute_result"
    }
   ],
   "source": [
    "testResultsEncoded.r2"
   ]
  },
  {
   "cell_type": "code",
   "execution_count": 67,
   "metadata": {},
   "outputs": [
    {
     "name": "stdout",
     "output_type": "stream",
     "text": [
      "+--------------------+-----+------------------+\n",
      "|     encodedFeatures| crew|        prediction|\n",
      "+--------------------+-----+------------------+\n",
      "|(26,[0,1,2,3,4,5,...|11.85|11.849999999999993|\n",
      "|(26,[0,1,2,3,4,5,...|11.85|11.849999999999993|\n",
      "|(26,[0,1,2,3,4,5,...|11.85|11.849999999999993|\n",
      "|(26,[0,1,2,3,4,5,...|  7.6| 7.599999999999998|\n",
      "|(26,[0,1,2,3,4,5,...|  7.2| 7.200000000000001|\n",
      "|(26,[0,1,2,3,4,5,...| 11.6|11.599999999999993|\n",
      "|(26,[0,1,2,3,4,5,...| 19.1|19.100000000000097|\n",
      "|(26,[0,1,2,3,4,5,...|10.29|10.290000000000006|\n",
      "|(26,[0,1,2,3,4,5,...| 10.0| 9.999999999999988|\n",
      "|(26,[0,1,2,3,4,5,...| 12.0|11.999999999999995|\n",
      "|(26,[0,1,2,3,4,5,...|  9.0| 8.999999999999995|\n",
      "|(26,[0,1,2,3,4,5,...| 12.0| 12.00000000000001|\n",
      "|(26,[0,1,2,3,4,5,...|  8.0| 7.999999999999992|\n",
      "|(26,[0,1,2,3,4,5,...| 5.31|5.3099999999999845|\n",
      "|(26,[0,1,2,3,4,5,...| 5.57| 5.569999999999999|\n",
      "|(26,[0,1,2,3,4,5,...| 11.0|11.000000000000009|\n",
      "|(26,[0,1,2,3,4,5,...|  8.0| 7.999999999999983|\n",
      "|(26,[0,1,2,3,4,5,...|  6.3| 6.299999999999994|\n",
      "|(26,[0,1,2,3,4,5,...|10.68|             10.68|\n",
      "|(26,[0,1,2,3,4,5,...| 3.85|3.8500000000000045|\n",
      "+--------------------+-----+------------------+\n",
      "only showing top 20 rows\n",
      "\n"
     ]
    }
   ],
   "source": [
    "testResultsEncoded.predictions.show()"
   ]
  },
  {
   "cell_type": "code",
   "execution_count": 68,
   "metadata": {},
   "outputs": [
    {
     "data": {
      "text/plain": [
       "3.565058313384745e-28"
      ]
     },
     "execution_count": 68,
     "metadata": {},
     "output_type": "execute_result"
    }
   ],
   "source": [
    "testResultsEncoded.meanSquaredError"
   ]
  },
  {
   "cell_type": "code",
   "execution_count": 69,
   "metadata": {
    "collapsed": true
   },
   "outputs": [],
   "source": [
    "from pyspark.sql.functions import corr"
   ]
  },
  {
   "cell_type": "code",
   "execution_count": 70,
   "metadata": {},
   "outputs": [
    {
     "name": "stdout",
     "output_type": "stream",
     "text": [
      "+----------------------+\n",
      "|corr(crew, passengers)|\n",
      "+----------------------+\n",
      "|    0.9152341306065384|\n",
      "+----------------------+\n",
      "\n"
     ]
    }
   ],
   "source": [
    "cruiseData.select(corr('crew','passengers')).show()"
   ]
  },
  {
   "cell_type": "code",
   "execution_count": 71,
   "metadata": {},
   "outputs": [
    {
     "name": "stdout",
     "output_type": "stream",
     "text": [
      "+------------------+\n",
      "|corr(crew, cabins)|\n",
      "+------------------+\n",
      "|0.9508226063578497|\n",
      "+------------------+\n",
      "\n"
     ]
    }
   ],
   "source": [
    "cruiseData.select(corr('crew','cabins')).show()"
   ]
  },
  {
   "cell_type": "code",
   "execution_count": null,
   "metadata": {
    "collapsed": true
   },
   "outputs": [],
   "source": []
  }
 ],
 "metadata": {
  "kernelspec": {
   "display_name": "Python 3",
   "language": "python",
   "name": "python3"
  },
  "language_info": {
   "codemirror_mode": {
    "name": "ipython",
    "version": 3
   },
   "file_extension": ".py",
   "mimetype": "text/x-python",
   "name": "python",
   "nbconvert_exporter": "python",
   "pygments_lexer": "ipython3",
   "version": "3.5.2"
  }
 },
 "nbformat": 4,
 "nbformat_minor": 2
}
